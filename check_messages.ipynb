{
 "cells": [
  {
   "cell_type": "code",
   "execution_count": null,
   "id": "5bd8bb1a-3e1f-49a9-a7dc-df71d8b244f7",
   "metadata": {},
   "outputs": [],
   "source": [
    "import mysql.connector\n",
    "import joblib\n",
    "from sklearn.feature_extraction.text import TfidfVectorizer\n",
    "\n",
    "vectorizer=joblib.load(\"vectorizer.joblib\")\n",
    "classifier_model = joblib.load(\"spam_classifier.joblib\")"
   ]
  },
  {
   "cell_type": "code",
   "execution_count": null,
   "id": "aee18e58-9803-4867-8b5b-b2a43f6ddca7",
   "metadata": {},
   "outputs": [],
   "source": [
    "def connect():\n",
    "    mydb = mysql.connector.connect(\n",
    "      host=\"localhost\",\n",
    "      user=\"root\",\n",
    "      password=\"\",\n",
    "      database=\"message_board\"\n",
    "    )\n",
    "    return mydb\n"
   ]
  },
  {
   "cell_type": "code",
   "execution_count": null,
   "id": "61ff0248-b1b3-4d17-bbbd-52ba9d20460c",
   "metadata": {},
   "outputs": [],
   "source": [
    "\n",
    "while True:\n",
    "    mydb=connect()\n",
    "    mycursor = mydb.cursor()\n",
    "    mycursor.execute(\"SELECT * FROM trigger_table\")\n",
    "    myresult = mycursor.fetchall()\n",
    "    mydb.close()\n",
    "    if len(myresult)>0:\n",
    "        print(\"NEW MESSAGE ARRIVED\")\n",
    "        for row in myresult:\n",
    "            id=row[0]\n",
    "            mydb=connect()\n",
    "            mycursor = mydb.cursor()\n",
    "            mycursor.execute('SELECT * FROM tb_mail where id=%s',(id,))\n",
    "            mail=mycursor.fetchone()\n",
    "            mycursor.execute(\"DELETE FROM trigger_table where new_mail=%s\",(id,))\n",
    "            message_text=mail[2]\n",
    "            mydb.close()\n",
    "            integers = vectorizer.transform([message_text])\n",
    "            x = classifier_model.predict(integers)\n",
    "            if x==1:\n",
    "                print(message_text, \"==>\", \" SPAM!!!!\")\n",
    "            else:\n",
    "                print(message_text, \"==>\", \" NOT SPAM :)\")"
   ]
  },
  {
   "cell_type": "code",
   "execution_count": null,
   "id": "0d3566a0-e556-4102-942e-ea825d109e5e",
   "metadata": {},
   "outputs": [],
   "source": []
  }
 ],
 "metadata": {
  "kernelspec": {
   "display_name": "Python 3 (ipykernel)",
   "language": "python",
   "name": "python3"
  },
  "language_info": {
   "codemirror_mode": {
    "name": "ipython",
    "version": 3
   },
   "file_extension": ".py",
   "mimetype": "text/x-python",
   "name": "python",
   "nbconvert_exporter": "python",
   "pygments_lexer": "ipython3",
   "version": "3.9.12"
  }
 },
 "nbformat": 4,
 "nbformat_minor": 5
}
